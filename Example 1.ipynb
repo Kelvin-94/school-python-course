{
 "cells": [
  {
   "cell_type": "markdown",
   "id": "788993bc-f3f9-4772-a119-207730383231",
   "metadata": {},
   "source": [
    "# This is my first program"
   ]
  },
  {
   "cell_type": "code",
   "execution_count": 2,
   "id": "35570681-8ed2-407d-8d1e-cf477a9451ad",
   "metadata": {
    "tags": []
   },
   "outputs": [
    {
     "name": "stdout",
     "output_type": "stream",
     "text": [
      "Hello World!\n"
     ]
    }
   ],
   "source": [
    "print (\"Hello World!\")"
   ]
  },
  {
   "cell_type": "code",
   "execution_count": 3,
   "id": "9ce73e08-1adb-4db6-b7f5-90ef9ee056df",
   "metadata": {
    "tags": []
   },
   "outputs": [
    {
     "name": "stdout",
     "output_type": "stream",
     "text": [
      " i like python!\n"
     ]
    }
   ],
   "source": [
    "print(\" i like python!\")"
   ]
  },
  {
   "cell_type": "code",
   "execution_count": 11,
   "id": "eedd4c23-6c63-4ccb-8dcd-855be75288ea",
   "metadata": {
    "tags": []
   },
   "outputs": [],
   "source": [
    "anylisis = \"mean\""
   ]
  },
  {
   "cell_type": "code",
   "execution_count": 17,
   "id": "c949bb8f-4335-4f50-8868-efc9d334986c",
   "metadata": {
    "tags": []
   },
   "outputs": [],
   "source": [
    " anylisis = \"medium\""
   ]
  },
  {
   "cell_type": "code",
   "execution_count": 29,
   "id": "eb84d5bc-2f76-4b77-aa5a-431bc490de74",
   "metadata": {
    "tags": []
   },
   "outputs": [
    {
     "name": "stdout",
     "output_type": "stream",
     "text": [
      "medium\n",
      "medium\n"
     ]
    }
   ],
   "source": [
    "print(anylisis)\n",
    "print(anylisis)\n"
   ]
  },
  {
   "cell_type": "code",
   "execution_count": null,
   "id": "b79ab373-0338-48ca-877d-99220ea1f552",
   "metadata": {},
   "outputs": [],
   "source": []
  }
 ],
 "metadata": {
  "kernelspec": {
   "display_name": "Python 3 (ipykernel)",
   "language": "python",
   "name": "python3"
  },
  "language_info": {
   "codemirror_mode": {
    "name": "ipython",
    "version": 3
   },
   "file_extension": ".py",
   "mimetype": "text/x-python",
   "name": "python",
   "nbconvert_exporter": "python",
   "pygments_lexer": "ipython3",
   "version": "3.11.5"
  }
 },
 "nbformat": 4,
 "nbformat_minor": 5
}
